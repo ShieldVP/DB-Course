{
 "cells": [
  {
   "cell_type": "code",
   "execution_count": 23,
   "metadata": {},
   "outputs": [],
   "source": [
    "import redis\n",
    "import numpy as np\n",
    "import time\n",
    "import warnings\n",
    "warnings.filterwarnings('ignore')"
   ]
  },
  {
   "cell_type": "markdown",
   "metadata": {},
   "source": [
    "Подключимся к БД и проверим, что всё работает"
   ]
  },
  {
   "cell_type": "code",
   "execution_count": 1,
   "metadata": {},
   "outputs": [],
   "source": [
    "r = redis.StrictRedis(\n",
    "    host='127.0.0.1',\n",
    "    port=6379\n",
    ")"
   ]
  },
  {
   "cell_type": "code",
   "execution_count": 2,
   "metadata": {},
   "outputs": [
    {
     "data": {
      "text/plain": [
       "True"
      ]
     },
     "execution_count": 2,
     "metadata": {},
     "output_type": "execute_result"
    }
   ],
   "source": [
    "r.set('test', 'test_value')"
   ]
  },
  {
   "cell_type": "code",
   "execution_count": 3,
   "metadata": {},
   "outputs": [
    {
     "data": {
      "text/plain": [
       "b'test_value'"
      ]
     },
     "execution_count": 3,
     "metadata": {},
     "output_type": "execute_result"
    }
   ],
   "source": [
    "r.get('test')"
   ]
  },
  {
   "cell_type": "code",
   "execution_count": 4,
   "metadata": {},
   "outputs": [
    {
     "data": {
      "text/plain": [
       "1"
      ]
     },
     "execution_count": 4,
     "metadata": {},
     "output_type": "execute_result"
    }
   ],
   "source": [
    "r.delete('test')"
   ]
  },
  {
   "cell_type": "markdown",
   "metadata": {},
   "source": [
    "Сгенерируем текст на 20Мб"
   ]
  },
  {
   "cell_type": "code",
   "execution_count": 5,
   "metadata": {},
   "outputs": [],
   "source": [
    "str_len = 20 * 2**20\n",
    "letters = np.vectorize(chr)(np.random.randint(0, 26, str_len) + ord('a'))\n",
    "string = ''.join(letters.tolist())"
   ]
  },
  {
   "cell_type": "markdown",
   "metadata": {},
   "source": [
    "set"
   ]
  },
  {
   "cell_type": "code",
   "execution_count": 6,
   "metadata": {},
   "outputs": [
    {
     "name": "stdout",
     "output_type": "stream",
     "text": [
      "0.04344462871551514 +- 7.1298223579083e-05\n"
     ]
    }
   ],
   "source": [
    "TESTS_AMOUNT = 100\n",
    "\n",
    "time_sum, time2_sum = 0, 0\n",
    "for _ in range(TESTS_AMOUNT):\n",
    "    start = time.time()\n",
    "    r.set('test_set', string)\n",
    "    end = time.time()\n",
    "    r.delete('test_set')\n",
    "    time_sum += end - start\n",
    "    time2_sum += (end - start)**2\n",
    "\n",
    "mean = time_sum / TESTS_AMOUNT\n",
    "mean2 = time2_sum / TESTS_AMOUNT\n",
    "print(f'{mean} +- {mean2 - mean**2}')"
   ]
  },
  {
   "cell_type": "markdown",
   "metadata": {},
   "source": [
    "get (сначала добавим что-нибудь, что можно считывать, а потом удалим)"
   ]
  },
  {
   "cell_type": "code",
   "execution_count": 7,
   "metadata": {},
   "outputs": [
    {
     "data": {
      "text/plain": [
       "True"
      ]
     },
     "execution_count": 7,
     "metadata": {},
     "output_type": "execute_result"
    }
   ],
   "source": [
    "r.set('test_get', string)"
   ]
  },
  {
   "cell_type": "code",
   "execution_count": 8,
   "metadata": {},
   "outputs": [
    {
     "name": "stdout",
     "output_type": "stream",
     "text": [
      "0.11864619493484498 +- 0.00035719033248516815\n"
     ]
    }
   ],
   "source": [
    "time_sum, time2_sum = 0, 0\n",
    "for _ in range(TESTS_AMOUNT):\n",
    "    start = time.time()\n",
    "    r.get('test_get')\n",
    "    end = time.time()\n",
    "    time_sum += end - start\n",
    "    time2_sum += (end - start)**2\n",
    "\n",
    "mean = time_sum / TESTS_AMOUNT\n",
    "mean2 = time2_sum / TESTS_AMOUNT\n",
    "print(f'{mean} +- {mean2 - mean**2}')"
   ]
  },
  {
   "cell_type": "code",
   "execution_count": 9,
   "metadata": {},
   "outputs": [
    {
     "data": {
      "text/plain": [
       "1"
      ]
     },
     "execution_count": 9,
     "metadata": {},
     "output_type": "execute_result"
    }
   ],
   "source": [
    "r.delete('test_get')"
   ]
  },
  {
   "cell_type": "markdown",
   "metadata": {},
   "source": [
    "Сгенерируем список на 20Мб"
   ]
  },
  {
   "cell_type": "code",
   "execution_count": 10,
   "metadata": {},
   "outputs": [],
   "source": [
    "list_of_strings = []\n",
    "index = 0\n",
    "while index < str_len:\n",
    "    size = np.random.randint(1, 500, 1)[0]\n",
    "    list_of_strings.append(string[index: index + size])\n",
    "    index += size"
   ]
  },
  {
   "cell_type": "markdown",
   "metadata": {},
   "source": [
    "lpush"
   ]
  },
  {
   "cell_type": "code",
   "execution_count": 12,
   "metadata": {},
   "outputs": [
    {
     "name": "stdout",
     "output_type": "stream",
     "text": [
      "0.47944873571395874 +- 0.003382515316304041\n"
     ]
    }
   ],
   "source": [
    "time_sum, time2_sum = 0, 0\n",
    "for _ in range(TESTS_AMOUNT):\n",
    "    start = time.time()\n",
    "    r.lpush('test_lpush', *list_of_strings)\n",
    "    end = time.time()\n",
    "    r.delete('test_lpush')\n",
    "    time_sum += end - start\n",
    "    time2_sum += (end - start)**2\n",
    "\n",
    "mean = time_sum / TESTS_AMOUNT\n",
    "mean2 = time2_sum / TESTS_AMOUNT\n",
    "print(f'{mean} +- {mean2 - mean**2}')"
   ]
  },
  {
   "cell_type": "markdown",
   "metadata": {},
   "source": [
    "rpush"
   ]
  },
  {
   "cell_type": "code",
   "execution_count": 14,
   "metadata": {},
   "outputs": [
    {
     "name": "stdout",
     "output_type": "stream",
     "text": [
      "0.47659705638885497 +- 0.0038889498395722477\n"
     ]
    }
   ],
   "source": [
    "time_sum, time2_sum = 0, 0\n",
    "for _ in range(TESTS_AMOUNT):\n",
    "    start = time.time()\n",
    "    r.rpush('test_rpush', *list_of_strings)\n",
    "    end = time.time()\n",
    "    r.delete('test_rpush')\n",
    "    time_sum += end - start\n",
    "    time2_sum += (end - start)**2\n",
    "\n",
    "mean = time_sum / TESTS_AMOUNT\n",
    "mean2 = time2_sum / TESTS_AMOUNT\n",
    "print(f'{mean} +- {mean2 - mean**2}')"
   ]
  },
  {
   "cell_type": "markdown",
   "metadata": {},
   "source": [
    "Генерируем словарь"
   ]
  },
  {
   "cell_type": "code",
   "execution_count": 20,
   "metadata": {},
   "outputs": [],
   "source": [
    "test_dict = {elem: len(elem) for elem in list_of_strings}"
   ]
  },
  {
   "cell_type": "markdown",
   "metadata": {},
   "source": [
    "hset"
   ]
  },
  {
   "cell_type": "code",
   "execution_count": 24,
   "metadata": {},
   "outputs": [
    {
     "name": "stdout",
     "output_type": "stream",
     "text": [
      "0.8818115139007568 +- 0.019136823543883907\n"
     ]
    }
   ],
   "source": [
    "time_sum, time2_sum = 0, 0\n",
    "for _ in range(TESTS_AMOUNT):\n",
    "    start = time.time()\n",
    "    r.hmset('test_hset', test_dict)\n",
    "    end = time.time()\n",
    "    r.delete('test_hset')\n",
    "    time_sum += end - start\n",
    "    time2_sum += (end - start)**2\n",
    "\n",
    "mean = time_sum / TESTS_AMOUNT\n",
    "mean2 = time2_sum / TESTS_AMOUNT\n",
    "print(f'{mean} +- {mean2 - mean**2}')"
   ]
  },
  {
   "cell_type": "markdown",
   "metadata": {},
   "source": [
    "zadd"
   ]
  },
  {
   "cell_type": "code",
   "execution_count": 25,
   "metadata": {},
   "outputs": [
    {
     "name": "stdout",
     "output_type": "stream",
     "text": [
      "1.0981775617599487 +- 0.013584647802407979\n"
     ]
    }
   ],
   "source": [
    "time_sum, time2_sum = 0, 0\n",
    "for _ in range(TESTS_AMOUNT):\n",
    "    start = time.time()\n",
    "    r.zadd('test_zadd', test_dict)\n",
    "    end = time.time()\n",
    "    r.delete('test_zadd')\n",
    "    time_sum += end - start\n",
    "    time2_sum += (end - start)**2\n",
    "\n",
    "mean = time_sum / TESTS_AMOUNT\n",
    "mean2 = time2_sum / TESTS_AMOUNT\n",
    "print(f'{mean} +- {mean2 - mean**2}')"
   ]
  }
 ],
 "metadata": {
  "kernelspec": {
   "display_name": "Python 3",
   "language": "python",
   "name": "python3"
  },
  "language_info": {
   "codemirror_mode": {
    "name": "ipython",
    "version": 3
   },
   "file_extension": ".py",
   "mimetype": "text/x-python",
   "name": "python",
   "nbconvert_exporter": "python",
   "pygments_lexer": "ipython3",
   "version": "3.8.10"
  }
 },
 "nbformat": 4,
 "nbformat_minor": 4
}
